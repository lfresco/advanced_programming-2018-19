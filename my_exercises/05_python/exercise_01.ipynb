{
 "cells": [
  {
   "cell_type": "code",
   "execution_count": 1,
   "metadata": {},
   "outputs": [],
   "source": [
    "def is_palindrome(string_var):\n",
    "    return string_var == string_var[::-1]"
   ]
  },
  {
   "cell_type": "code",
   "execution_count": 8,
   "metadata": {},
   "outputs": [],
   "source": [
    "def histogram_letters(string_var):\n",
    "    '''\n",
    "    count how many times a letter is present in the string_var\n",
    "    and returns a dict\n",
    "    '''\n",
    "    return dict((lettera, string_var.count(lettera)) for lettera in set(string_var))\n",
    "    "
   ]
  },
  {
   "cell_type": "code",
   "execution_count": 52,
   "metadata": {},
   "outputs": [],
   "source": [
    "def get_most_frequent(list_var):\n",
    "    '''\n",
    "    returns a tuple with the most frequent object in the list with the \n",
    "    corresponding number\n",
    "    '''\n",
    "    \n",
    "    counts = {}\n",
    "    \n",
    "    for dict in list_var:\n",
    "        for elem in dict:\n",
    "            counts[elem] = counts.get(elem, 0) + 1\n",
    "            \n",
    "    \n",
    "    massimo  = max(counts, key = counts.get)  \n",
    "    massima_frequenza = max(counts[i] for i in counts)\n",
    "    \n",
    "    return massimo, massima_frequenza\n",
    "    \n",
    "    \n",
    "    "
   ]
  },
  {
   "cell_type": "code",
   "execution_count": 68,
   "metadata": {},
   "outputs": [],
   "source": [
    "def which_duplicates(list_var):\n",
    "    '''\n",
    "    return a dict with containing the repeted object and the number of repetitions\n",
    "    '''\n",
    "    freq = {x : list_var.count(x) for x in list_var}\n",
    "    \n",
    "    return [[x,freq[x]] for x in freq.keys() if freq[x] > 1]"
   ]
  },
  {
   "cell_type": "code",
   "execution_count": 59,
   "metadata": {},
   "outputs": [],
   "source": [
    "def compute_factorial(int_val):\n",
    "    \n",
    "    \n",
    "    if int_val < 2:\n",
    "        return 1\n",
    "    else :\n",
    "        return int_val * compute_factorial(int_val - 1)"
   ]
  },
  {
   "cell_type": "code",
   "execution_count": 63,
   "metadata": {},
   "outputs": [],
   "source": [
    "def is_prime(int_val):\n",
    "    \n",
    "    if(int_val==1):\n",
    "        return False\n",
    "    elif (int_val == 2):\n",
    "        return True\n",
    "    else:\n",
    "        for x in range(2, int_val):\n",
    "            if(int_val % x == 0):\n",
    "                return False\n",
    "        return True\n",
    "    "
   ]
  },
  {
   "cell_type": "code",
   "execution_count": null,
   "metadata": {},
   "outputs": [],
   "source": []
  }
 ],
 "metadata": {
  "kernelspec": {
   "display_name": "Python 3",
   "language": "python",
   "name": "python3"
  },
  "language_info": {
   "codemirror_mode": {
    "name": "ipython",
    "version": 3
   },
   "file_extension": ".py",
   "mimetype": "text/x-python",
   "name": "python",
   "nbconvert_exporter": "python",
   "pygments_lexer": "ipython3",
   "version": "3.7.2"
  }
 },
 "nbformat": 4,
 "nbformat_minor": 2
}
